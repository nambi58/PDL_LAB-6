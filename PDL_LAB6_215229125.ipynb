{
 "cells": [
  {
   "cell_type": "markdown",
   "metadata": {},
   "source": [
    "## LAB-6 : TEXT CORPUS CREATION AND BINARY CLASSIFICATION USING DNN"
   ]
  },
  {
   "cell_type": "markdown",
   "metadata": {},
   "source": [
    "### Step-1:Dataset creation"
   ]
  },
  {
   "cell_type": "code",
   "execution_count": 1,
   "metadata": {},
   "outputs": [],
   "source": [
    "import pandas as pd"
   ]
  },
  {
   "cell_type": "code",
   "execution_count": 2,
   "metadata": {},
   "outputs": [],
   "source": [
    "df = pd.read_csv(\"friendvsenemy.csv\")"
   ]
  },
  {
   "cell_type": "code",
   "execution_count": 3,
   "metadata": {},
   "outputs": [
    {
     "data": {
      "text/html": [
       "<div>\n",
       "<style scoped>\n",
       "    .dataframe tbody tr th:only-of-type {\n",
       "        vertical-align: middle;\n",
       "    }\n",
       "\n",
       "    .dataframe tbody tr th {\n",
       "        vertical-align: top;\n",
       "    }\n",
       "\n",
       "    .dataframe thead th {\n",
       "        text-align: right;\n",
       "    }\n",
       "</style>\n",
       "<table border=\"1\" class=\"dataframe\">\n",
       "  <thead>\n",
       "    <tr style=\"text-align: right;\">\n",
       "      <th></th>\n",
       "      <th>Quotes</th>\n",
       "      <th>Target</th>\n",
       "    </tr>\n",
       "  </thead>\n",
       "  <tbody>\n",
       "    <tr>\n",
       "      <th>0</th>\n",
       "      <td>Don�t make friends who are comfortable to be w...</td>\n",
       "      <td>1</td>\n",
       "    </tr>\n",
       "    <tr>\n",
       "      <th>1</th>\n",
       "      <td>The most beautiful discovery true friends make...</td>\n",
       "      <td>1</td>\n",
       "    </tr>\n",
       "    <tr>\n",
       "      <th>2</th>\n",
       "      <td>Each friend represents a world in us, a world ...</td>\n",
       "      <td>1</td>\n",
       "    </tr>\n",
       "    <tr>\n",
       "      <th>3</th>\n",
       "      <td>They may forget what you said, but they will n...</td>\n",
       "      <td>1</td>\n",
       "    </tr>\n",
       "    <tr>\n",
       "      <th>4</th>\n",
       "      <td>A real friend is one who walks in when the res...</td>\n",
       "      <td>1</td>\n",
       "    </tr>\n",
       "  </tbody>\n",
       "</table>\n",
       "</div>"
      ],
      "text/plain": [
       "                                              Quotes  Target\n",
       "0  Don�t make friends who are comfortable to be w...       1\n",
       "1  The most beautiful discovery true friends make...       1\n",
       "2  Each friend represents a world in us, a world ...       1\n",
       "3  They may forget what you said, but they will n...       1\n",
       "4  A real friend is one who walks in when the res...       1"
      ]
     },
     "execution_count": 3,
     "metadata": {},
     "output_type": "execute_result"
    }
   ],
   "source": [
    "df.head()"
   ]
  },
  {
   "cell_type": "code",
   "execution_count": 4,
   "metadata": {},
   "outputs": [
    {
     "data": {
      "text/plain": [
       "(25, 2)"
      ]
     },
     "execution_count": 4,
     "metadata": {},
     "output_type": "execute_result"
    }
   ],
   "source": [
    "df.shape"
   ]
  },
  {
   "cell_type": "markdown",
   "metadata": {},
   "source": [
    "### Step2: Pre-processing"
   ]
  },
  {
   "cell_type": "code",
   "execution_count": 5,
   "metadata": {},
   "outputs": [],
   "source": [
    "import nltk\n",
    "from nltk.corpus import stopwords,words"
   ]
  },
  {
   "cell_type": "code",
   "execution_count": 6,
   "metadata": {},
   "outputs": [],
   "source": [
    "stop = stopwords.words('english')"
   ]
  },
  {
   "cell_type": "code",
   "execution_count": 7,
   "metadata": {},
   "outputs": [],
   "source": [
    "df.columns = ['Quotes','target']"
   ]
  },
  {
   "cell_type": "code",
   "execution_count": 8,
   "metadata": {},
   "outputs": [],
   "source": [
    "df['Quotes'] = df['Quotes'].apply(lambda x: ' '.join(term for term in x.split() if term not in stop))"
   ]
  },
  {
   "cell_type": "code",
   "execution_count": 9,
   "metadata": {},
   "outputs": [
    {
     "data": {
      "text/html": [
       "<div>\n",
       "<style scoped>\n",
       "    .dataframe tbody tr th:only-of-type {\n",
       "        vertical-align: middle;\n",
       "    }\n",
       "\n",
       "    .dataframe tbody tr th {\n",
       "        vertical-align: top;\n",
       "    }\n",
       "\n",
       "    .dataframe thead th {\n",
       "        text-align: right;\n",
       "    }\n",
       "</style>\n",
       "<table border=\"1\" class=\"dataframe\">\n",
       "  <thead>\n",
       "    <tr style=\"text-align: right;\">\n",
       "      <th></th>\n",
       "      <th>Quotes</th>\n",
       "      <th>target</th>\n",
       "    </tr>\n",
       "  </thead>\n",
       "  <tbody>\n",
       "    <tr>\n",
       "      <th>0</th>\n",
       "      <td>Don�t make friends comfortable with. Make frie...</td>\n",
       "      <td>1</td>\n",
       "    </tr>\n",
       "    <tr>\n",
       "      <th>1</th>\n",
       "      <td>The beautiful discovery true friends make grow...</td>\n",
       "      <td>1</td>\n",
       "    </tr>\n",
       "    <tr>\n",
       "      <th>2</th>\n",
       "      <td>Each friend represents world us, world possibl...</td>\n",
       "      <td>1</td>\n",
       "    </tr>\n",
       "    <tr>\n",
       "      <th>3</th>\n",
       "      <td>They may forget said, never forget made feel</td>\n",
       "      <td>1</td>\n",
       "    </tr>\n",
       "    <tr>\n",
       "      <th>4</th>\n",
       "      <td>A real friend one walks rest world walks</td>\n",
       "      <td>1</td>\n",
       "    </tr>\n",
       "  </tbody>\n",
       "</table>\n",
       "</div>"
      ],
      "text/plain": [
       "                                              Quotes  target\n",
       "0  Don�t make friends comfortable with. Make frie...       1\n",
       "1  The beautiful discovery true friends make grow...       1\n",
       "2  Each friend represents world us, world possibl...       1\n",
       "3       They may forget said, never forget made feel       1\n",
       "4           A real friend one walks rest world walks       1"
      ]
     },
     "execution_count": 9,
     "metadata": {},
     "output_type": "execute_result"
    }
   ],
   "source": [
    "df.head()"
   ]
  },
  {
   "cell_type": "code",
   "execution_count": 10,
   "metadata": {},
   "outputs": [],
   "source": [
    "from sklearn.feature_extraction.text import TfidfVectorizer,CountVectorizer\n",
    "import warnings \n",
    "warnings.filterwarnings('ignore')"
   ]
  },
  {
   "cell_type": "code",
   "execution_count": 11,
   "metadata": {},
   "outputs": [
    {
     "name": "stdout",
     "output_type": "stream",
     "text": [
      "Count Vectorizer\n",
      "\n",
      "     afraid  anybody  apart  arrive  art  away  awful  beautiful  befriended  \\\n",
      "d1        0        0      0       0    0     0      0          0           0   \n",
      "d2        0        0      1       0    0     0      0          1           0   \n",
      "d3        0        0      0       1    0     0      0          0           0   \n",
      "d4        0        0      0       0    0     0      0          0           0   \n",
      "d5        0        0      0       0    0     0      0          0           0   \n",
      "d6        0        0      0       0    0     1      0          0           0   \n",
      "d7        0        0      0       0    0     0      0          0           0   \n",
      "d8        0        0      0       0    0     0      0          0           0   \n",
      "d9        0        0      0       0    0     0      0          0           0   \n",
      "d10       0        1      0       0    0     0      0          0           0   \n",
      "d11       0        0      0       0    0     0      0          0           0   \n",
      "d12       0        0      0       0    0     0      0          0           0   \n",
      "d13       0        0      0       0    0     0      0          0           1   \n",
      "d14       0        0      0       0    0     0      0          0           0   \n",
      "d15       0        0      0       0    0     0      0          0           0   \n",
      "d16       0        0      0       0    0     0      0          0           0   \n",
      "d16       0        0      0       0    0     0      0          0           0   \n",
      "d17       0        0      0       0    0     0      0          0           0   \n",
      "d18       0        0      0       0    0     0      0          0           0   \n",
      "d19       0        0      0       0    0     0      0          0           0   \n",
      "d20       0        0      0       0    0     0      1          0           0   \n",
      "d21       0        0      0       0    0     0      0          0           0   \n",
      "d22       0        0      0       0    1     0      0          0           0   \n",
      "d23       1        0      0       0    0     0      0          0           0   \n",
      "d24       0        0      0       0    0     0      0          0           0   \n",
      "\n",
      "     best  ...  ugly  unhappy  unnecessary  use  value  walk  walks  ways  \\\n",
      "d1      0  ...     0        0            0    0      0     0      0     0   \n",
      "d2      0  ...     0        0            0    0      0     0      0     0   \n",
      "d3      0  ...     0        0            0    0      0     0      0     0   \n",
      "d4      0  ...     0        0            0    0      0     0      0     0   \n",
      "d5      0  ...     0        0            0    0      0     0      2     0   \n",
      "d6      0  ...     0        0            0    0      0     0      0     0   \n",
      "d7      0  ...     0        0            0    0      0     0      0     0   \n",
      "d8      0  ...     0        0            0    0      0     0      0     0   \n",
      "d9      0  ...     0        0            0    0      0     0      0     0   \n",
      "d10     0  ...     0        0            0    0      0     0      0     0   \n",
      "d11     0  ...     0        0            0    0      0     0      0     0   \n",
      "d12     0  ...     0        0            0    0      0     0      0     0   \n",
      "d13     0  ...     0        0            0    0      0     0      0     0   \n",
      "d14     0  ...     0        0            0    0      0     0      0     1   \n",
      "d15     0  ...     0        0            0    1      0     0      0     0   \n",
      "d16     0  ...     0        0            0    0      0     3      0     0   \n",
      "d16     0  ...     0        0            0    0      0     0      0     0   \n",
      "d17     0  ...     0        0            0    0      0     0      0     0   \n",
      "d18     0  ...     0        1            0    0      0     0      0     0   \n",
      "d19     0  ...     0        0            0    0      0     0      0     0   \n",
      "d20     1  ...     1        0            0    0      0     0      0     0   \n",
      "d21     1  ...     0        0            0    0      0     0      0     0   \n",
      "d22     0  ...     0        0            1    0      2     0      0     0   \n",
      "d23     0  ...     0        0            0    0      0     0      0     0   \n",
      "d24     0  ...     0        0            0    0      0     0      0     0   \n",
      "\n",
      "     wise  world  \n",
      "d1      0      0  \n",
      "d2      0      0  \n",
      "d3      0      3  \n",
      "d4      0      0  \n",
      "d5      0      1  \n",
      "d6      0      0  \n",
      "d7      0      0  \n",
      "d8      0      0  \n",
      "d9      0      0  \n",
      "d10     0      0  \n",
      "d11     0      0  \n",
      "d12     0      0  \n",
      "d13     0      0  \n",
      "d14     0      0  \n",
      "d15     1      0  \n",
      "d16     0      0  \n",
      "d16     0      0  \n",
      "d17     0      0  \n",
      "d18     0      0  \n",
      "d19     0      0  \n",
      "d20     0      0  \n",
      "d21     0      0  \n",
      "d22     0      0  \n",
      "d23     0      0  \n",
      "d24     0      0  \n",
      "\n",
      "[25 rows x 104 columns]\n",
      "\n",
      "TD-IDF Vectorizer\n",
      "\n",
      "       afraid   anybody     apart    arrive       art      away    awful  \\\n",
      "d1   0.000000  0.000000  0.000000  0.000000  0.000000  0.000000  0.00000   \n",
      "d2   0.000000  0.000000  0.353739  0.000000  0.000000  0.000000  0.00000   \n",
      "d3   0.000000  0.000000  0.000000  0.252928  0.000000  0.000000  0.00000   \n",
      "d4   0.000000  0.000000  0.000000  0.000000  0.000000  0.000000  0.00000   \n",
      "d5   0.000000  0.000000  0.000000  0.000000  0.000000  0.000000  0.00000   \n",
      "d6   0.000000  0.000000  0.000000  0.000000  0.000000  0.468704  0.00000   \n",
      "d7   0.000000  0.000000  0.000000  0.000000  0.000000  0.000000  0.00000   \n",
      "d8   0.000000  0.000000  0.000000  0.000000  0.000000  0.000000  0.00000   \n",
      "d9   0.000000  0.000000  0.000000  0.000000  0.000000  0.000000  0.00000   \n",
      "d10  0.000000  0.480155  0.000000  0.000000  0.000000  0.000000  0.00000   \n",
      "d11  0.000000  0.000000  0.000000  0.000000  0.000000  0.000000  0.00000   \n",
      "d12  0.000000  0.000000  0.000000  0.000000  0.000000  0.000000  0.00000   \n",
      "d13  0.000000  0.000000  0.000000  0.000000  0.000000  0.000000  0.00000   \n",
      "d14  0.000000  0.000000  0.000000  0.000000  0.000000  0.000000  0.00000   \n",
      "d15  0.000000  0.000000  0.000000  0.000000  0.000000  0.000000  0.00000   \n",
      "d16  0.000000  0.000000  0.000000  0.000000  0.000000  0.000000  0.00000   \n",
      "d16  0.000000  0.000000  0.000000  0.000000  0.000000  0.000000  0.00000   \n",
      "d17  0.000000  0.000000  0.000000  0.000000  0.000000  0.000000  0.00000   \n",
      "d18  0.000000  0.000000  0.000000  0.000000  0.000000  0.000000  0.00000   \n",
      "d19  0.000000  0.000000  0.000000  0.000000  0.000000  0.000000  0.00000   \n",
      "d20  0.000000  0.000000  0.000000  0.000000  0.000000  0.000000  0.45384   \n",
      "d21  0.000000  0.000000  0.000000  0.000000  0.000000  0.000000  0.00000   \n",
      "d22  0.000000  0.000000  0.000000  0.000000  0.252427  0.000000  0.00000   \n",
      "d23  0.545133  0.000000  0.000000  0.000000  0.000000  0.000000  0.00000   \n",
      "d24  0.000000  0.000000  0.000000  0.000000  0.000000  0.000000  0.00000   \n",
      "\n",
      "     beautiful  befriended      best  ...     ugly   unhappy  unnecessary  \\\n",
      "d1    0.000000    0.000000  0.000000  ...  0.00000  0.000000     0.000000   \n",
      "d2    0.353739    0.000000  0.000000  ...  0.00000  0.000000     0.000000   \n",
      "d3    0.000000    0.000000  0.000000  ...  0.00000  0.000000     0.000000   \n",
      "d4    0.000000    0.000000  0.000000  ...  0.00000  0.000000     0.000000   \n",
      "d5    0.000000    0.000000  0.000000  ...  0.00000  0.000000     0.000000   \n",
      "d6    0.000000    0.000000  0.000000  ...  0.00000  0.000000     0.000000   \n",
      "d7    0.000000    0.000000  0.000000  ...  0.00000  0.000000     0.000000   \n",
      "d8    0.000000    0.000000  0.000000  ...  0.00000  0.000000     0.000000   \n",
      "d9    0.000000    0.000000  0.000000  ...  0.00000  0.000000     0.000000   \n",
      "d10   0.000000    0.000000  0.000000  ...  0.00000  0.000000     0.000000   \n",
      "d11   0.000000    0.000000  0.000000  ...  0.00000  0.000000     0.000000   \n",
      "d12   0.000000    0.000000  0.000000  ...  0.00000  0.000000     0.000000   \n",
      "d13   0.000000    0.544453  0.000000  ...  0.00000  0.000000     0.000000   \n",
      "d14   0.000000    0.000000  0.000000  ...  0.00000  0.000000     0.000000   \n",
      "d15   0.000000    0.000000  0.000000  ...  0.00000  0.000000     0.000000   \n",
      "d16   0.000000    0.000000  0.000000  ...  0.00000  0.000000     0.000000   \n",
      "d16   0.000000    0.000000  0.000000  ...  0.00000  0.000000     0.000000   \n",
      "d17   0.000000    0.000000  0.000000  ...  0.00000  0.000000     0.000000   \n",
      "d18   0.000000    0.000000  0.000000  ...  0.00000  0.353854     0.000000   \n",
      "d19   0.000000    0.000000  0.000000  ...  0.00000  0.000000     0.000000   \n",
      "d20   0.000000    0.000000  0.402221  ...  0.45384  0.000000     0.000000   \n",
      "d21   0.000000    0.000000  0.338499  ...  0.00000  0.000000     0.000000   \n",
      "d22   0.000000    0.000000  0.000000  ...  0.00000  0.000000     0.252427   \n",
      "d23   0.000000    0.000000  0.000000  ...  0.00000  0.000000     0.000000   \n",
      "d24   0.000000    0.000000  0.000000  ...  0.00000  0.000000     0.000000   \n",
      "\n",
      "          use     value      walk     walks      ways      wise     world  \n",
      "d1   0.000000  0.000000  0.000000  0.000000  0.000000  0.000000  0.000000  \n",
      "d2   0.000000  0.000000  0.000000  0.000000  0.000000  0.000000  0.000000  \n",
      "d3   0.000000  0.000000  0.000000  0.000000  0.000000  0.000000  0.672483  \n",
      "d4   0.000000  0.000000  0.000000  0.000000  0.000000  0.000000  0.000000  \n",
      "d5   0.000000  0.000000  0.000000  0.745039  0.000000  0.000000  0.330150  \n",
      "d6   0.000000  0.000000  0.000000  0.000000  0.000000  0.000000  0.000000  \n",
      "d7   0.000000  0.000000  0.000000  0.000000  0.000000  0.000000  0.000000  \n",
      "d8   0.000000  0.000000  0.000000  0.000000  0.000000  0.000000  0.000000  \n",
      "d9   0.000000  0.000000  0.000000  0.000000  0.000000  0.000000  0.000000  \n",
      "d10  0.000000  0.000000  0.000000  0.000000  0.000000  0.000000  0.000000  \n",
      "d11  0.000000  0.000000  0.000000  0.000000  0.000000  0.000000  0.000000  \n",
      "d12  0.000000  0.000000  0.000000  0.000000  0.000000  0.000000  0.000000  \n",
      "d13  0.000000  0.000000  0.000000  0.000000  0.000000  0.000000  0.000000  \n",
      "d14  0.000000  0.000000  0.000000  0.000000  0.263394  0.000000  0.000000  \n",
      "d15  0.423348  0.000000  0.000000  0.000000  0.000000  0.423348  0.000000  \n",
      "d16  0.000000  0.000000  0.786146  0.000000  0.000000  0.000000  0.000000  \n",
      "d16  0.000000  0.000000  0.000000  0.000000  0.000000  0.000000  0.000000  \n",
      "d17  0.000000  0.000000  0.000000  0.000000  0.000000  0.000000  0.000000  \n",
      "d18  0.000000  0.000000  0.000000  0.000000  0.000000  0.000000  0.000000  \n",
      "d19  0.000000  0.000000  0.000000  0.000000  0.000000  0.000000  0.000000  \n",
      "d20  0.000000  0.000000  0.000000  0.000000  0.000000  0.000000  0.000000  \n",
      "d21  0.000000  0.000000  0.000000  0.000000  0.000000  0.000000  0.000000  \n",
      "d22  0.000000  0.504853  0.000000  0.000000  0.000000  0.000000  0.000000  \n",
      "d23  0.000000  0.000000  0.000000  0.000000  0.000000  0.000000  0.000000  \n",
      "d24  0.000000  0.000000  0.000000  0.000000  0.000000  0.000000  0.000000  \n",
      "\n",
      "[25 rows x 104 columns]\n"
     ]
    }
   ],
   "source": [
    "countvectorizer = CountVectorizer(analyzer= 'word', stop_words='english')\n",
    "tfidfvectorizer = TfidfVectorizer(analyzer='word',stop_words= 'english')\n",
    "\n",
    "count_wm = countvectorizer.fit_transform(df['Quotes'])\n",
    "tfidf_wm = tfidfvectorizer.fit_transform(df['Quotes'])\n",
    "\n",
    "count_tokens = countvectorizer.get_feature_names()\n",
    "tfidf_tokens = tfidfvectorizer.get_feature_names()\n",
    "df_countvect = pd.DataFrame(data = count_wm.toarray(),index = ['d1','d2','d3','d4','d5','d6','d7','d8','d9','d10','d11','d12','d13','d14','d15','d16','d16','d17','d18','d19','d20','d21','d22','d23','d24'],columns = count_tokens)\n",
    "df_tfidfvect = pd.DataFrame(data = tfidf_wm.toarray(),index = ['d1','d2','d3','d4','d5','d6','d7','d8','d9','d10','d11','d12','d13','d14','d15','d16','d16','d17','d18','d19','d20','d21','d22','d23','d24'],columns = tfidf_tokens)\n",
    "print(\"Count Vectorizer\\n\")\n",
    "print(df_countvect)\n",
    "print(\"\\nTD-IDF Vectorizer\\n\")\n",
    "print(df_tfidfvect)"
   ]
  },
  {
   "cell_type": "markdown",
   "metadata": {},
   "source": [
    "### Step3: Dataset Preparation"
   ]
  },
  {
   "cell_type": "code",
   "execution_count": 12,
   "metadata": {},
   "outputs": [],
   "source": [
    "from sklearn.datasets import make_classification\n",
    "X, y = make_classification(n_features=2, n_redundant=0, \n",
    "                           n_informative=2, random_state=1, \n",
    "                           n_clusters_per_class=1)"
   ]
  },
  {
   "cell_type": "code",
   "execution_count": 13,
   "metadata": {},
   "outputs": [],
   "source": [
    "from sklearn.model_selection import train_test_split\n",
    "X_train,X_test,y_train,y_test = train_test_split(X,y,test_size = 0.20)"
   ]
  },
  {
   "cell_type": "markdown",
   "metadata": {},
   "source": [
    "### Step-4: Model Creation"
   ]
  },
  {
   "cell_type": "code",
   "execution_count": 14,
   "metadata": {},
   "outputs": [],
   "source": [
    "from tensorflow.keras.models import Sequential\n",
    "from tensorflow.keras.layers import Dense"
   ]
  },
  {
   "cell_type": "code",
   "execution_count": 15,
   "metadata": {
    "scrolled": true
   },
   "outputs": [],
   "source": [
    "def layerandnodes(n,l):\n",
    "    model = Sequential()\n",
    "    for x in range(l):\n",
    "        model.add(Dense(n,activation='relu'))\n",
    "    model.add(Dense(1, activation='sigmoid'))\n",
    "    model.compile(loss='mean_squared_error',optimizer='RMSprop',metrics='accuracy')\n",
    "    return model\n",
    "model = layerandnodes(32,1)"
   ]
  },
  {
   "cell_type": "code",
   "execution_count": 16,
   "metadata": {},
   "outputs": [
    {
     "name": "stdout",
     "output_type": "stream",
     "text": [
      "Epoch 1/100\n",
      "3/3 [==============================] - 1s 11ms/step - loss: 0.2266 - accuracy: 0.7625\n",
      "Epoch 2/100\n",
      "3/3 [==============================] - 0s 8ms/step - loss: 0.2126 - accuracy: 0.8250\n",
      "Epoch 3/100\n",
      "3/3 [==============================] - 0s 4ms/step - loss: 0.2034 - accuracy: 0.8500\n",
      "Epoch 4/100\n",
      "3/3 [==============================] - 0s 8ms/step - loss: 0.1955 - accuracy: 0.9000\n",
      "Epoch 5/100\n",
      "3/3 [==============================] - 0s 8ms/step - loss: 0.1885 - accuracy: 0.9125\n",
      "Epoch 6/100\n",
      "3/3 [==============================] - 0s 8ms/step - loss: 0.1822 - accuracy: 0.9125\n",
      "Epoch 7/100\n",
      "3/3 [==============================] - 0s 5ms/step - loss: 0.1761 - accuracy: 0.9125\n",
      "Epoch 8/100\n",
      "3/3 [==============================] - 0s 4ms/step - loss: 0.1705 - accuracy: 0.9250\n",
      "Epoch 9/100\n",
      "3/3 [==============================] - 0s 8ms/step - loss: 0.1650 - accuracy: 0.9250\n",
      "Epoch 10/100\n",
      "3/3 [==============================] - 0s 8ms/step - loss: 0.1596 - accuracy: 0.9375\n",
      "Epoch 11/100\n",
      "3/3 [==============================] - 0s 8ms/step - loss: 0.1545 - accuracy: 0.9375\n",
      "Epoch 12/100\n",
      "3/3 [==============================] - 0s 4ms/step - loss: 0.1496 - accuracy: 0.9375\n",
      "Epoch 13/100\n",
      "3/3 [==============================] - 0s 4ms/step - loss: 0.1447 - accuracy: 0.9375\n",
      "Epoch 14/100\n",
      "3/3 [==============================] - 0s 4ms/step - loss: 0.1401 - accuracy: 0.9375\n",
      "Epoch 15/100\n",
      "3/3 [==============================] - 0s 8ms/step - loss: 0.1354 - accuracy: 0.9375\n",
      "Epoch 16/100\n",
      "3/3 [==============================] - 0s 4ms/step - loss: 0.1309 - accuracy: 0.9375\n",
      "Epoch 17/100\n",
      "3/3 [==============================] - 0s 4ms/step - loss: 0.1265 - accuracy: 0.9500\n",
      "Epoch 18/100\n",
      "3/3 [==============================] - 0s 4ms/step - loss: 0.1222 - accuracy: 0.9500\n",
      "Epoch 19/100\n",
      "3/3 [==============================] - 0s 4ms/step - loss: 0.1182 - accuracy: 0.9500\n",
      "Epoch 20/100\n",
      "3/3 [==============================] - 0s 4ms/step - loss: 0.1141 - accuracy: 0.9500\n",
      "Epoch 21/100\n",
      "3/3 [==============================] - 0s 4ms/step - loss: 0.1102 - accuracy: 0.9500\n",
      "Epoch 22/100\n",
      "3/3 [==============================] - 0s 8ms/step - loss: 0.1065 - accuracy: 0.9500\n",
      "Epoch 23/100\n",
      "3/3 [==============================] - 0s 4ms/step - loss: 0.1028 - accuracy: 0.9500\n",
      "Epoch 24/100\n",
      "3/3 [==============================] - 0s 8ms/step - loss: 0.0991 - accuracy: 0.9500\n",
      "Epoch 25/100\n",
      "3/3 [==============================] - 0s 4ms/step - loss: 0.0956 - accuracy: 0.9500\n",
      "Epoch 26/100\n",
      "3/3 [==============================] - 0s 4ms/step - loss: 0.0921 - accuracy: 0.9500\n",
      "Epoch 27/100\n",
      "3/3 [==============================] - 0s 4ms/step - loss: 0.0887 - accuracy: 0.9500\n",
      "Epoch 28/100\n",
      "3/3 [==============================] - 0s 8ms/step - loss: 0.0854 - accuracy: 0.9500\n",
      "Epoch 29/100\n",
      "3/3 [==============================] - 0s 4ms/step - loss: 0.0823 - accuracy: 0.9625\n",
      "Epoch 30/100\n",
      "3/3 [==============================] - 0s 4ms/step - loss: 0.0792 - accuracy: 0.9625\n",
      "Epoch 31/100\n",
      "3/3 [==============================] - 0s 4ms/step - loss: 0.0762 - accuracy: 0.9625\n",
      "Epoch 32/100\n",
      "3/3 [==============================] - 0s 4ms/step - loss: 0.0734 - accuracy: 0.9750\n",
      "Epoch 33/100\n",
      "3/3 [==============================] - 0s 4ms/step - loss: 0.0705 - accuracy: 0.9750\n",
      "Epoch 34/100\n",
      "3/3 [==============================] - 0s 4ms/step - loss: 0.0677 - accuracy: 0.9750\n",
      "Epoch 35/100\n",
      "3/3 [==============================] - 0s 4ms/step - loss: 0.0650 - accuracy: 0.9875\n",
      "Epoch 36/100\n",
      "3/3 [==============================] - 0s 4ms/step - loss: 0.0626 - accuracy: 0.9875\n",
      "Epoch 37/100\n",
      "3/3 [==============================] - 0s 4ms/step - loss: 0.0602 - accuracy: 0.9875\n",
      "Epoch 38/100\n",
      "3/3 [==============================] - 0s 4ms/step - loss: 0.0578 - accuracy: 0.9875\n",
      "Epoch 39/100\n",
      "3/3 [==============================] - 0s 4ms/step - loss: 0.0554 - accuracy: 0.9875\n",
      "Epoch 40/100\n",
      "3/3 [==============================] - 0s 4ms/step - loss: 0.0531 - accuracy: 0.9875\n",
      "Epoch 41/100\n",
      "3/3 [==============================] - 0s 4ms/step - loss: 0.0509 - accuracy: 0.9875\n",
      "Epoch 42/100\n",
      "3/3 [==============================] - 0s 4ms/step - loss: 0.0487 - accuracy: 0.9875\n",
      "Epoch 43/100\n",
      "3/3 [==============================] - 0s 5ms/step - loss: 0.0467 - accuracy: 0.9875\n",
      "Epoch 44/100\n",
      "3/3 [==============================] - 0s 5ms/step - loss: 0.0447 - accuracy: 0.9875\n",
      "Epoch 45/100\n",
      "3/3 [==============================] - 0s 8ms/step - loss: 0.0429 - accuracy: 1.0000\n",
      "Epoch 46/100\n",
      "3/3 [==============================] - 0s 4ms/step - loss: 0.0410 - accuracy: 1.0000\n",
      "Epoch 47/100\n",
      "3/3 [==============================] - 0s 4ms/step - loss: 0.0392 - accuracy: 1.0000\n",
      "Epoch 48/100\n",
      "3/3 [==============================] - 0s 8ms/step - loss: 0.0375 - accuracy: 1.0000\n",
      "Epoch 49/100\n",
      "3/3 [==============================] - 0s 8ms/step - loss: 0.0359 - accuracy: 1.0000\n",
      "Epoch 50/100\n",
      "3/3 [==============================] - 0s 8ms/step - loss: 0.0343 - accuracy: 1.0000\n",
      "Epoch 51/100\n",
      "3/3 [==============================] - 0s 4ms/step - loss: 0.0327 - accuracy: 1.0000\n",
      "Epoch 52/100\n",
      "3/3 [==============================] - 0s 4ms/step - loss: 0.0313 - accuracy: 1.0000\n",
      "Epoch 53/100\n",
      "3/3 [==============================] - 0s 4ms/step - loss: 0.0299 - accuracy: 1.0000\n",
      "Epoch 54/100\n",
      "3/3 [==============================] - 0s 4ms/step - loss: 0.0285 - accuracy: 1.0000\n",
      "Epoch 55/100\n",
      "3/3 [==============================] - 0s 8ms/step - loss: 0.0271 - accuracy: 1.0000\n",
      "Epoch 56/100\n",
      "3/3 [==============================] - 0s 4ms/step - loss: 0.0258 - accuracy: 1.0000\n",
      "Epoch 57/100\n",
      "3/3 [==============================] - 0s 8ms/step - loss: 0.0246 - accuracy: 1.0000\n",
      "Epoch 58/100\n",
      "3/3 [==============================] - 0s 4ms/step - loss: 0.0235 - accuracy: 1.0000\n",
      "Epoch 59/100\n",
      "3/3 [==============================] - 0s 2ms/step - loss: 0.0224 - accuracy: 1.0000\n",
      "Epoch 60/100\n",
      "3/3 [==============================] - 0s 4ms/step - loss: 0.0212 - accuracy: 1.0000\n",
      "Epoch 61/100\n",
      "3/3 [==============================] - 0s 8ms/step - loss: 0.0202 - accuracy: 1.0000\n",
      "Epoch 62/100\n",
      "3/3 [==============================] - 0s 4ms/step - loss: 0.0192 - accuracy: 1.0000\n",
      "Epoch 63/100\n",
      "3/3 [==============================] - 0s 8ms/step - loss: 0.0183 - accuracy: 1.0000\n",
      "Epoch 64/100\n",
      "3/3 [==============================] - 0s 4ms/step - loss: 0.0174 - accuracy: 1.0000\n",
      "Epoch 65/100\n",
      "3/3 [==============================] - 0s 4ms/step - loss: 0.0166 - accuracy: 1.0000\n",
      "Epoch 66/100\n",
      "3/3 [==============================] - 0s 4ms/step - loss: 0.0157 - accuracy: 1.0000\n",
      "Epoch 67/100\n",
      "3/3 [==============================] - 0s 4ms/step - loss: 0.0150 - accuracy: 1.0000\n",
      "Epoch 68/100\n",
      "3/3 [==============================] - 0s 4ms/step - loss: 0.0142 - accuracy: 1.0000\n",
      "Epoch 69/100\n",
      "3/3 [==============================] - 0s 4ms/step - loss: 0.0135 - accuracy: 1.0000\n",
      "Epoch 70/100\n",
      "3/3 [==============================] - 0s 4ms/step - loss: 0.0128 - accuracy: 1.0000\n",
      "Epoch 71/100\n",
      "3/3 [==============================] - 0s 4ms/step - loss: 0.0122 - accuracy: 1.0000\n",
      "Epoch 72/100\n",
      "3/3 [==============================] - 0s 8ms/step - loss: 0.0115 - accuracy: 1.0000\n",
      "Epoch 73/100\n",
      "3/3 [==============================] - 0s 4ms/step - loss: 0.0109 - accuracy: 1.0000\n",
      "Epoch 74/100\n",
      "3/3 [==============================] - 0s 4ms/step - loss: 0.0103 - accuracy: 1.0000\n",
      "Epoch 75/100\n",
      "3/3 [==============================] - 0s 8ms/step - loss: 0.0098 - accuracy: 1.0000\n",
      "Epoch 76/100\n",
      "3/3 [==============================] - 0s 4ms/step - loss: 0.0094 - accuracy: 1.0000\n",
      "Epoch 77/100\n",
      "3/3 [==============================] - 0s 4ms/step - loss: 0.0089 - accuracy: 1.0000\n",
      "Epoch 78/100\n",
      "3/3 [==============================] - 0s 8ms/step - loss: 0.0084 - accuracy: 1.0000\n",
      "Epoch 79/100\n",
      "3/3 [==============================] - 0s 4ms/step - loss: 0.0079 - accuracy: 1.0000\n",
      "Epoch 80/100\n",
      "3/3 [==============================] - 0s 4ms/step - loss: 0.0075 - accuracy: 1.0000\n",
      "Epoch 81/100\n",
      "3/3 [==============================] - 0s 4ms/step - loss: 0.0071 - accuracy: 1.0000\n",
      "Epoch 82/100\n",
      "3/3 [==============================] - 0s 4ms/step - loss: 0.0067 - accuracy: 1.0000\n",
      "Epoch 83/100\n",
      "3/3 [==============================] - 0s 5ms/step - loss: 0.0063 - accuracy: 1.0000\n",
      "Epoch 84/100\n",
      "3/3 [==============================] - 0s 4ms/step - loss: 0.0060 - accuracy: 1.0000\n",
      "Epoch 85/100\n",
      "3/3 [==============================] - 0s 5ms/step - loss: 0.0057 - accuracy: 1.0000\n",
      "Epoch 86/100\n",
      "3/3 [==============================] - 0s 4ms/step - loss: 0.0053 - accuracy: 1.0000\n",
      "Epoch 87/100\n",
      "3/3 [==============================] - 0s 8ms/step - loss: 0.0050 - accuracy: 1.0000\n",
      "Epoch 88/100\n",
      "3/3 [==============================] - 0s 4ms/step - loss: 0.0047 - accuracy: 1.0000\n",
      "Epoch 89/100\n",
      "3/3 [==============================] - 0s 8ms/step - loss: 0.0045 - accuracy: 1.0000\n",
      "Epoch 90/100\n",
      "3/3 [==============================] - 0s 4ms/step - loss: 0.0043 - accuracy: 1.0000\n",
      "Epoch 91/100\n",
      "3/3 [==============================] - 0s 4ms/step - loss: 0.0040 - accuracy: 1.0000\n",
      "Epoch 92/100\n",
      "3/3 [==============================] - 0s 4ms/step - loss: 0.0038 - accuracy: 1.0000\n",
      "Epoch 93/100\n",
      "3/3 [==============================] - 0s 4ms/step - loss: 0.0036 - accuracy: 1.0000\n",
      "Epoch 94/100\n",
      "3/3 [==============================] - 0s 4ms/step - loss: 0.0034 - accuracy: 1.0000\n",
      "Epoch 95/100\n",
      "3/3 [==============================] - 0s 4ms/step - loss: 0.0032 - accuracy: 1.0000\n",
      "Epoch 96/100\n",
      "3/3 [==============================] - 0s 4ms/step - loss: 0.0030 - accuracy: 1.0000\n",
      "Epoch 97/100\n",
      "3/3 [==============================] - 0s 4ms/step - loss: 0.0028 - accuracy: 1.0000\n",
      "Epoch 98/100\n",
      "3/3 [==============================] - 0s 8ms/step - loss: 0.0027 - accuracy: 1.0000\n",
      "Epoch 99/100\n",
      "3/3 [==============================] - 0s 5ms/step - loss: 0.0025 - accuracy: 1.0000\n",
      "Epoch 100/100\n",
      "3/3 [==============================] - 0s 6ms/step - loss: 0.0024 - accuracy: 1.0000\n"
     ]
    },
    {
     "data": {
      "text/plain": [
       "<keras.callbacks.History at 0x2c60b334100>"
      ]
     },
     "execution_count": 16,
     "metadata": {},
     "output_type": "execute_result"
    }
   ],
   "source": [
    " model.fit(X_train,y_train,epochs=100)"
   ]
  },
  {
   "cell_type": "code",
   "execution_count": 17,
   "metadata": {},
   "outputs": [
    {
     "name": "stdout",
     "output_type": "stream",
     "text": [
      "1/1 [==============================] - 0s 278ms/step - loss: 0.0023 - accuracy: 1.0000\n"
     ]
    },
    {
     "data": {
      "text/plain": [
       "[0.002313022967427969, 1.0]"
      ]
     },
     "execution_count": 17,
     "metadata": {},
     "output_type": "execute_result"
    }
   ],
   "source": [
    "model.evaluate(X_test,y_test)"
   ]
  },
  {
   "cell_type": "markdown",
   "metadata": {},
   "source": [
    "### Step5:Analysis Part-A"
   ]
  },
  {
   "cell_type": "markdown",
   "metadata": {},
   "source": [
    "### 8nodes"
   ]
  },
  {
   "cell_type": "code",
   "execution_count": 18,
   "metadata": {},
   "outputs": [
    {
     "name": "stdout",
     "output_type": "stream",
     "text": [
      "3/3 [==============================] - 1s 11ms/step - loss: 0.2201 - accuracy: 0.5500\n"
     ]
    },
    {
     "data": {
      "text/plain": [
       "<keras.callbacks.History at 0x2c60d738940>"
      ]
     },
     "execution_count": 18,
     "metadata": {},
     "output_type": "execute_result"
    }
   ],
   "source": [
    "model1 = layerandnodes(8,1)\n",
    "model1.fit(X_train,y_train)"
   ]
  },
  {
   "cell_type": "code",
   "execution_count": 19,
   "metadata": {},
   "outputs": [
    {
     "name": "stdout",
     "output_type": "stream",
     "text": [
      "1/1 [==============================] - 0s 220ms/step - loss: 0.2646 - accuracy: 0.3500\n"
     ]
    },
    {
     "data": {
      "text/plain": [
       "[0.26460209488868713, 0.3499999940395355]"
      ]
     },
     "execution_count": 19,
     "metadata": {},
     "output_type": "execute_result"
    }
   ],
   "source": [
    "model1.evaluate(X_test,y_test)"
   ]
  },
  {
   "cell_type": "markdown",
   "metadata": {},
   "source": [
    "### 16nodes"
   ]
  },
  {
   "cell_type": "code",
   "execution_count": 20,
   "metadata": {
    "scrolled": true
   },
   "outputs": [
    {
     "name": "stdout",
     "output_type": "stream",
     "text": [
      "3/3 [==============================] - 1s 6ms/step - loss: 0.2512 - accuracy: 0.4500\n"
     ]
    },
    {
     "data": {
      "text/plain": [
       "<keras.callbacks.History at 0x2c60d8b5250>"
      ]
     },
     "execution_count": 20,
     "metadata": {},
     "output_type": "execute_result"
    }
   ],
   "source": [
    "model2 = layerandnodes(16,1)\n",
    "model2.fit(X_train,y_train)"
   ]
  },
  {
   "cell_type": "code",
   "execution_count": 21,
   "metadata": {},
   "outputs": [
    {
     "name": "stdout",
     "output_type": "stream",
     "text": [
      "1/1 [==============================] - 0s 197ms/step - loss: 0.2151 - accuracy: 0.7000\n"
     ]
    },
    {
     "data": {
      "text/plain": [
       "[0.21508049964904785, 0.699999988079071]"
      ]
     },
     "execution_count": 21,
     "metadata": {},
     "output_type": "execute_result"
    }
   ],
   "source": [
    "model2.evaluate(X_test,y_test)"
   ]
  },
  {
   "cell_type": "markdown",
   "metadata": {},
   "source": [
    "### 64nodes"
   ]
  },
  {
   "cell_type": "code",
   "execution_count": 22,
   "metadata": {},
   "outputs": [
    {
     "name": "stdout",
     "output_type": "stream",
     "text": [
      "3/3 [==============================] - 1s 7ms/step - loss: 0.2427 - accuracy: 0.7125\n"
     ]
    },
    {
     "data": {
      "text/plain": [
       "<keras.callbacks.History at 0x2c60e9c0310>"
      ]
     },
     "execution_count": 22,
     "metadata": {},
     "output_type": "execute_result"
    }
   ],
   "source": [
    "model3 = layerandnodes(64,1)\n",
    "model3.fit(X_train,y_train)"
   ]
  },
  {
   "cell_type": "code",
   "execution_count": 23,
   "metadata": {},
   "outputs": [
    {
     "name": "stdout",
     "output_type": "stream",
     "text": [
      "1/1 [==============================] - 0s 189ms/step - loss: 0.2344 - accuracy: 0.8500\n"
     ]
    },
    {
     "data": {
      "text/plain": [
       "[0.23435184359550476, 0.8500000238418579]"
      ]
     },
     "execution_count": 23,
     "metadata": {},
     "output_type": "execute_result"
    }
   ],
   "source": [
    "model3.evaluate(X_test,y_test)"
   ]
  },
  {
   "cell_type": "markdown",
   "metadata": {},
   "source": [
    "### 128nodes"
   ]
  },
  {
   "cell_type": "code",
   "execution_count": 24,
   "metadata": {},
   "outputs": [
    {
     "name": "stdout",
     "output_type": "stream",
     "text": [
      "WARNING:tensorflow:5 out of the last 310 calls to <function Model.make_train_function.<locals>.train_function at 0x000002C603FB2B80> triggered tf.function retracing. Tracing is expensive and the excessive number of tracings could be due to (1) creating @tf.function repeatedly in a loop, (2) passing tensors with different shapes, (3) passing Python objects instead of tensors. For (1), please define your @tf.function outside of the loop. For (2), @tf.function has reduce_retracing=True option that can avoid unnecessary retracing. For (3), please refer to https://www.tensorflow.org/guide/function#controlling_retracing and https://www.tensorflow.org/api_docs/python/tf/function for  more details.\n",
      "3/3 [==============================] - 1s 4ms/step - loss: 0.2442 - accuracy: 0.6875\n"
     ]
    },
    {
     "data": {
      "text/plain": [
       "<keras.callbacks.History at 0x2c60eae7d90>"
      ]
     },
     "execution_count": 24,
     "metadata": {},
     "output_type": "execute_result"
    }
   ],
   "source": [
    "model4 = layerandnodes(128,1)\n",
    "model4.fit(X_train,y_train)"
   ]
  },
  {
   "cell_type": "code",
   "execution_count": 25,
   "metadata": {},
   "outputs": [
    {
     "name": "stdout",
     "output_type": "stream",
     "text": [
      "WARNING:tensorflow:5 out of the last 5 calls to <function Model.make_test_function.<locals>.test_function at 0x000002C603FB2CA0> triggered tf.function retracing. Tracing is expensive and the excessive number of tracings could be due to (1) creating @tf.function repeatedly in a loop, (2) passing tensors with different shapes, (3) passing Python objects instead of tensors. For (1), please define your @tf.function outside of the loop. For (2), @tf.function has reduce_retracing=True option that can avoid unnecessary retracing. For (3), please refer to https://www.tensorflow.org/guide/function#controlling_retracing and https://www.tensorflow.org/api_docs/python/tf/function for  more details.\n",
      "1/1 [==============================] - 0s 187ms/step - loss: 0.2285 - accuracy: 0.8500\n"
     ]
    },
    {
     "data": {
      "text/plain": [
       "[0.22851285338401794, 0.8500000238418579]"
      ]
     },
     "execution_count": 25,
     "metadata": {},
     "output_type": "execute_result"
    }
   ],
   "source": [
    "model4.evaluate(X_test,y_test)"
   ]
  },
  {
   "cell_type": "markdown",
   "metadata": {},
   "source": [
    "### 256nodes"
   ]
  },
  {
   "cell_type": "code",
   "execution_count": 26,
   "metadata": {
    "scrolled": true
   },
   "outputs": [
    {
     "name": "stdout",
     "output_type": "stream",
     "text": [
      "WARNING:tensorflow:5 out of the last 13 calls to <function Model.make_train_function.<locals>.train_function at 0x000002C603FC24C0> triggered tf.function retracing. Tracing is expensive and the excessive number of tracings could be due to (1) creating @tf.function repeatedly in a loop, (2) passing tensors with different shapes, (3) passing Python objects instead of tensors. For (1), please define your @tf.function outside of the loop. For (2), @tf.function has reduce_retracing=True option that can avoid unnecessary retracing. For (3), please refer to https://www.tensorflow.org/guide/function#controlling_retracing and https://www.tensorflow.org/api_docs/python/tf/function for  more details.\n",
      "3/3 [==============================] - 1s 4ms/step - loss: 0.2443 - accuracy: 0.6250\n"
     ]
    },
    {
     "data": {
      "text/plain": [
       "<keras.callbacks.History at 0x2c60fbd73a0>"
      ]
     },
     "execution_count": 26,
     "metadata": {},
     "output_type": "execute_result"
    }
   ],
   "source": [
    "model5 = layerandnodes(256,1)\n",
    "model5.fit(X_train,y_train)"
   ]
  },
  {
   "cell_type": "code",
   "execution_count": 27,
   "metadata": {},
   "outputs": [
    {
     "name": "stdout",
     "output_type": "stream",
     "text": [
      "WARNING:tensorflow:6 out of the last 6 calls to <function Model.make_test_function.<locals>.test_function at 0x000002C60FBF6B80> triggered tf.function retracing. Tracing is expensive and the excessive number of tracings could be due to (1) creating @tf.function repeatedly in a loop, (2) passing tensors with different shapes, (3) passing Python objects instead of tensors. For (1), please define your @tf.function outside of the loop. For (2), @tf.function has reduce_retracing=True option that can avoid unnecessary retracing. For (3), please refer to https://www.tensorflow.org/guide/function#controlling_retracing and https://www.tensorflow.org/api_docs/python/tf/function for  more details.\n",
      "1/1 [==============================] - 0s 220ms/step - loss: 0.2039 - accuracy: 1.0000\n"
     ]
    },
    {
     "data": {
      "text/plain": [
       "[0.20392346382141113, 1.0]"
      ]
     },
     "execution_count": 27,
     "metadata": {},
     "output_type": "execute_result"
    }
   ],
   "source": [
    "model5.evaluate(X_test,y_test)"
   ]
  },
  {
   "cell_type": "markdown",
   "metadata": {},
   "source": [
    "### 512nodes"
   ]
  },
  {
   "cell_type": "code",
   "execution_count": 28,
   "metadata": {},
   "outputs": [
    {
     "name": "stdout",
     "output_type": "stream",
     "text": [
      "2/2 [==============================] - 1s 279ms/step - loss: 0.2296 - accuracy: 0.7812 - val_loss: 0.1946 - val_accuracy: 1.0000\n"
     ]
    },
    {
     "data": {
      "text/plain": [
       "<keras.callbacks.History at 0x2c60fd04df0>"
      ]
     },
     "execution_count": 28,
     "metadata": {},
     "output_type": "execute_result"
    }
   ],
   "source": [
    "model6 = layerandnodes(512,1)\n",
    "model6.fit(X_train,y_train,validation_split=0.20)"
   ]
  },
  {
   "cell_type": "code",
   "execution_count": 29,
   "metadata": {},
   "outputs": [
    {
     "name": "stdout",
     "output_type": "stream",
     "text": [
      "1/1 [==============================] - 0s 32ms/step - loss: 0.1963 - accuracy: 1.0000\n"
     ]
    },
    {
     "data": {
      "text/plain": [
       "[0.19627834856510162, 1.0]"
      ]
     },
     "execution_count": 29,
     "metadata": {},
     "output_type": "execute_result"
    }
   ],
   "source": [
    "model6.evaluate(X_test,y_test)"
   ]
  },
  {
   "cell_type": "markdown",
   "metadata": {},
   "source": [
    "### 1028nodes"
   ]
  },
  {
   "cell_type": "code",
   "execution_count": 30,
   "metadata": {},
   "outputs": [
    {
     "name": "stdout",
     "output_type": "stream",
     "text": [
      "2/2 [==============================] - 1s 327ms/step - loss: 0.2399 - accuracy: 0.4844 - val_loss: 0.1911 - val_accuracy: 1.0000\n"
     ]
    },
    {
     "data": {
      "text/plain": [
       "<keras.callbacks.History at 0x2c610d9eeb0>"
      ]
     },
     "execution_count": 30,
     "metadata": {},
     "output_type": "execute_result"
    }
   ],
   "source": [
    "model7 = layerandnodes(1028,1)\n",
    "model7.fit(X_train,y_train,validation_split=0.20)"
   ]
  },
  {
   "cell_type": "code",
   "execution_count": 31,
   "metadata": {},
   "outputs": [
    {
     "name": "stdout",
     "output_type": "stream",
     "text": [
      "1/1 [==============================] - 0s 48ms/step - loss: 0.1944 - accuracy: 1.0000\n"
     ]
    },
    {
     "data": {
      "text/plain": [
       "[0.19436851143836975, 1.0]"
      ]
     },
     "execution_count": 31,
     "metadata": {},
     "output_type": "execute_result"
    }
   ],
   "source": [
    "model7.evaluate(X_test,y_test)"
   ]
  },
  {
   "cell_type": "code",
   "execution_count": 32,
   "metadata": {},
   "outputs": [
    {
     "name": "stdout",
     "output_type": "stream",
     "text": [
      "Model: \"sequential_7\"\n",
      "_________________________________________________________________\n",
      " Layer (type)                Output Shape              Param #   \n",
      "=================================================================\n",
      " dense_14 (Dense)            (None, 1028)              3084      \n",
      "                                                                 \n",
      " dense_15 (Dense)            (None, 1)                 1029      \n",
      "                                                                 \n",
      "=================================================================\n",
      "Total params: 4,113\n",
      "Trainable params: 4,113\n",
      "Non-trainable params: 0\n",
      "_________________________________________________________________\n"
     ]
    }
   ],
   "source": [
    "model7.summary()"
   ]
  },
  {
   "cell_type": "code",
   "execution_count": 33,
   "metadata": {},
   "outputs": [
    {
     "name": "stdout",
     "output_type": "stream",
     "text": [
      "3/3 [==============================] - 1s 5ms/step - loss: 0.2868 - accuracy: 0.3875\n"
     ]
    },
    {
     "data": {
      "text/plain": [
       "<keras.callbacks.History at 0x2c611049670>"
      ]
     },
     "execution_count": 33,
     "metadata": {},
     "output_type": "execute_result"
    }
   ],
   "source": [
    "model8 = layerandnodes(32,1)\n",
    "model8.fit(X_train,y_train)"
   ]
  },
  {
   "cell_type": "code",
   "execution_count": 34,
   "metadata": {},
   "outputs": [
    {
     "name": "stdout",
     "output_type": "stream",
     "text": [
      "1/1 [==============================] - 0s 203ms/step - loss: 0.2566 - accuracy: 0.7000\n"
     ]
    },
    {
     "data": {
      "text/plain": [
       "[0.2566222548484802, 0.699999988079071]"
      ]
     },
     "execution_count": 34,
     "metadata": {},
     "output_type": "execute_result"
    }
   ],
   "source": [
    "model8.evaluate(X_test,y_test)"
   ]
  },
  {
   "cell_type": "code",
   "execution_count": 35,
   "metadata": {},
   "outputs": [
    {
     "data": {
      "image/png": "[encoded data removed]",
      "text/plain": [
       "<Figure size 864x432 with 1 Axes>"
      ]
     },
     "metadata": {
      "needs_background": "light"
     },
     "output_type": "display_data"
    }
   ],
   "source": [
    "import matplotlib.pyplot as plt\n",
    "# creating the barchart\n",
    "bar={'8_nodes':0.5375,'16_nodes':0.4250,'32_nodes':0.5500,'64_nodes':0.9875,'128_nodes':0.5125,'256_nodes':0.7500,'512_nodes':0.5000,'1028_nodes':0.9375}\n",
    "nodes = list(bar.keys())\n",
    "acc = list(bar.values())\n",
    "\n",
    "fig = plt.figure(figsize = (12, 6))\n",
    "\n",
    "# creating the bar plot\n",
    "plt.bar(nodes, acc, color ='blue',width = 0.4)\n",
    "\n",
    "plt.xlabel(\"Number of nodes\")\n",
    "plt.ylabel(\"Accuracy\")\n",
    "plt.title(\"Computing accuracy for different no. of nodes\")\n",
    "plt.show()"
   ]
  },
  {
   "cell_type": "markdown",
   "metadata": {},
   "source": [
    "## Accuracy for different kinds of nodes"
   ]
  },
  {
   "cell_type": "code",
   "execution_count": 36,
   "metadata": {
    "scrolled": true
   },
   "outputs": [
    {
     "data": {
      "text/plain": [
       "{'8_nodes': 0.5375,\n",
       " '16_nodes': 0.425,\n",
       " '32_nodes': 0.55,\n",
       " '64_nodes': 0.9875,\n",
       " '128_nodes': 0.5125,\n",
       " '256_nodes': 0.75,\n",
       " '512_nodes': 0.5,\n",
       " '1028_nodes': 0.9375}"
      ]
     },
     "execution_count": 36,
     "metadata": {},
     "output_type": "execute_result"
    }
   ],
   "source": [
    "bar"
   ]
  },
  {
   "cell_type": "markdown",
   "metadata": {},
   "source": [
    "### Step-5 Analysis part-b"
   ]
  },
  {
   "cell_type": "code",
   "execution_count": 37,
   "metadata": {
    "scrolled": true
   },
   "outputs": [
    {
     "name": "stdout",
     "output_type": "stream",
     "text": [
      "3/3 [==============================] - 1s 4ms/step - loss: 0.2187 - accuracy: 0.9625\n"
     ]
    },
    {
     "data": {
      "text/plain": [
       "<keras.callbacks.History at 0x2c60c575f70>"
      ]
     },
     "execution_count": 37,
     "metadata": {},
     "output_type": "execute_result"
    }
   ],
   "source": [
    "model9 = layerandnodes(64,2)\n",
    "model9.fit(X_train,y_train)"
   ]
  },
  {
   "cell_type": "code",
   "execution_count": 46,
   "metadata": {},
   "outputs": [
    {
     "name": "stdout",
     "output_type": "stream",
     "text": [
      "Model: \"sequential_9\"\n",
      "_________________________________________________________________\n",
      " Layer (type)                Output Shape              Param #   \n",
      "=================================================================\n",
      " dense_18 (Dense)            (None, 64)                192       \n",
      "                                                                 \n",
      " dense_19 (Dense)            (None, 64)                4160      \n",
      "                                                                 \n",
      " dense_20 (Dense)            (None, 1)                 65        \n",
      "                                                                 \n",
      "=================================================================\n",
      "Total params: 4,417\n",
      "Trainable params: 4,417\n",
      "Non-trainable params: 0\n",
      "_________________________________________________________________\n"
     ]
    }
   ],
   "source": [
    "model9.summary()"
   ]
  },
  {
   "cell_type": "code",
   "execution_count": 38,
   "metadata": {},
   "outputs": [
    {
     "name": "stdout",
     "output_type": "stream",
     "text": [
      "3/3 [==============================] - 1s 5ms/step - loss: 0.2349 - accuracy: 0.4500\n"
     ]
    },
    {
     "data": {
      "text/plain": [
       "<keras.callbacks.History at 0x2c612b5a6d0>"
      ]
     },
     "execution_count": 38,
     "metadata": {},
     "output_type": "execute_result"
    }
   ],
   "source": [
    "model10 = layerandnodes(64,3)\n",
    "model10.fit(X_train,y_train)"
   ]
  },
  {
   "cell_type": "code",
   "execution_count": 47,
   "metadata": {},
   "outputs": [
    {
     "name": "stdout",
     "output_type": "stream",
     "text": [
      "Model: \"sequential_10\"\n",
      "_________________________________________________________________\n",
      " Layer (type)                Output Shape              Param #   \n",
      "=================================================================\n",
      " dense_21 (Dense)            (None, 64)                192       \n",
      "                                                                 \n",
      " dense_22 (Dense)            (None, 64)                4160      \n",
      "                                                                 \n",
      " dense_23 (Dense)            (None, 64)                4160      \n",
      "                                                                 \n",
      " dense_24 (Dense)            (None, 1)                 65        \n",
      "                                                                 \n",
      "=================================================================\n",
      "Total params: 8,577\n",
      "Trainable params: 8,577\n",
      "Non-trainable params: 0\n",
      "_________________________________________________________________\n"
     ]
    }
   ],
   "source": [
    "model10.summary()"
   ]
  },
  {
   "cell_type": "code",
   "execution_count": 39,
   "metadata": {
    "scrolled": true
   },
   "outputs": [
    {
     "name": "stdout",
     "output_type": "stream",
     "text": [
      "3/3 [==============================] - 1s 6ms/step - loss: 0.2230 - accuracy: 0.9375\n"
     ]
    },
    {
     "data": {
      "text/plain": [
       "<keras.callbacks.History at 0x2c612e01be0>"
      ]
     },
     "execution_count": 39,
     "metadata": {},
     "output_type": "execute_result"
    }
   ],
   "source": [
    "model11 = layerandnodes(64,4)\n",
    "model11.fit(X_train,y_train)"
   ]
  },
  {
   "cell_type": "code",
   "execution_count": 48,
   "metadata": {},
   "outputs": [
    {
     "name": "stdout",
     "output_type": "stream",
     "text": [
      "Model: \"sequential_11\"\n",
      "_________________________________________________________________\n",
      " Layer (type)                Output Shape              Param #   \n",
      "=================================================================\n",
      " dense_25 (Dense)            (None, 64)                192       \n",
      "                                                                 \n",
      " dense_26 (Dense)            (None, 64)                4160      \n",
      "                                                                 \n",
      " dense_27 (Dense)            (None, 64)                4160      \n",
      "                                                                 \n",
      " dense_28 (Dense)            (None, 64)                4160      \n",
      "                                                                 \n",
      " dense_29 (Dense)            (None, 1)                 65        \n",
      "                                                                 \n",
      "=================================================================\n",
      "Total params: 12,737\n",
      "Trainable params: 12,737\n",
      "Non-trainable params: 0\n",
      "_________________________________________________________________\n"
     ]
    }
   ],
   "source": [
    "model11.summary()"
   ]
  },
  {
   "cell_type": "code",
   "execution_count": 40,
   "metadata": {
    "scrolled": true
   },
   "outputs": [
    {
     "name": "stdout",
     "output_type": "stream",
     "text": [
      "3/3 [==============================] - 2s 6ms/step - loss: 0.2422 - accuracy: 0.6500\n"
     ]
    },
    {
     "data": {
      "text/plain": [
       "<keras.callbacks.History at 0x2c613fa2ee0>"
      ]
     },
     "execution_count": 40,
     "metadata": {},
     "output_type": "execute_result"
    }
   ],
   "source": [
    "model12 = layerandnodes(64,5)\n",
    "model12.fit(X_train,y_train)"
   ]
  },
  {
   "cell_type": "code",
   "execution_count": 41,
   "metadata": {
    "scrolled": true
   },
   "outputs": [
    {
     "name": "stdout",
     "output_type": "stream",
     "text": [
      "1/1 [==============================] - 0s 238ms/step - loss: 0.2140 - accuracy: 1.0000\n"
     ]
    },
    {
     "data": {
      "text/plain": [
       "[0.21404823660850525, 1.0]"
      ]
     },
     "execution_count": 41,
     "metadata": {},
     "output_type": "execute_result"
    }
   ],
   "source": [
    "model12.evaluate(X_test,y_test)"
   ]
  },
  {
   "cell_type": "code",
   "execution_count": 45,
   "metadata": {},
   "outputs": [
    {
     "name": "stdout",
     "output_type": "stream",
     "text": [
      "Model: \"sequential_12\"\n",
      "_________________________________________________________________\n",
      " Layer (type)                Output Shape              Param #   \n",
      "=================================================================\n",
      " dense_30 (Dense)            (None, 64)                192       \n",
      "                                                                 \n",
      " dense_31 (Dense)            (None, 64)                4160      \n",
      "                                                                 \n",
      " dense_32 (Dense)            (None, 64)                4160      \n",
      "                                                                 \n",
      " dense_33 (Dense)            (None, 64)                4160      \n",
      "                                                                 \n",
      " dense_34 (Dense)            (None, 64)                4160      \n",
      "                                                                 \n",
      " dense_35 (Dense)            (None, 1)                 65        \n",
      "                                                                 \n",
      "=================================================================\n",
      "Total params: 16,897\n",
      "Trainable params: 16,897\n",
      "Non-trainable params: 0\n",
      "_________________________________________________________________\n"
     ]
    }
   ],
   "source": [
    "model12.summary()"
   ]
  },
  {
   "cell_type": "code",
   "execution_count": 42,
   "metadata": {},
   "outputs": [
    {
     "data": {
      "image/png": "[encoded data removed]",
      "text/plain": [
       "<Figure size 864x432 with 1 Axes>"
      ]
     },
     "metadata": {
      "needs_background": "light"
     },
     "output_type": "display_data"
    }
   ],
   "source": [
    "layers={'layer_2':0.7625,'layer_3':0.5875,'layer_4':0.7375,'layer_5':0.6875}\n",
    "nodes = list(layers.keys())\n",
    "acc = list(layers.values())\n",
    "\n",
    "fig = plt.figure(figsize = (12, 6))\n",
    "\n",
    "plt.bar(nodes, acc, color ='blue',width = 0.4)\n",
    "\n",
    "plt.xlabel(\"Number of layers\")\n",
    "plt.ylabel(\"Accuracy\")\n",
    "plt.title(\"Computing accuracy for different no. of layres\")\n",
    "plt.show()"
   ]
  },
  {
   "cell_type": "markdown",
   "metadata": {},
   "source": [
    "## Accuracy for different types of layers"
   ]
  },
  {
   "cell_type": "code",
   "execution_count": 43,
   "metadata": {
    "scrolled": true
   },
   "outputs": [
    {
     "data": {
      "text/plain": [
       "{'layer_2': 0.7625, 'layer_3': 0.5875, 'layer_4': 0.7375, 'layer_5': 0.6875}"
      ]
     },
     "execution_count": 43,
     "metadata": {},
     "output_type": "execute_result"
    }
   ],
   "source": [
    "layers"
   ]
  }
 ],
 "metadata": {
  "kernelspec": {
   "display_name": "Python 3",
   "language": "python",
   "name": "python3"
  },
  "language_info": {
   "codemirror_mode": {
    "name": "ipython",
    "version": 3
   },
   "file_extension": ".py",
   "mimetype": "text/x-python",
   "name": "python",
   "nbconvert_exporter": "python",
   "pygments_lexer": "ipython3",
   "version": "3.6.4"
  }
 },
 "nbformat": 4,
 "nbformat_minor": 5
}
